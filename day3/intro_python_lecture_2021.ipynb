{
  "nbformat": 4,
  "nbformat_minor": 0,
  "metadata": {
    "colab": {
      "name": "intro_python_lecture_2021_final_version.ipynb",
      "provenance": [],
      "collapsed_sections": [],
      "include_colab_link": true
    },
    "language_info": {
      "codemirror_mode": {
        "name": "ipython",
        "version": 3
      },
      "file_extension": ".py",
      "mimetype": "text/x-python",
      "name": "python",
      "nbconvert_exporter": "python",
      "pygments_lexer": "ipython3",
      "version": "3.5.2"
    },
    "kernelspec": {
      "name": "python3",
      "display_name": "Python 3"
    }
  },
  "cells": [
    {
      "cell_type": "markdown",
      "metadata": {
        "id": "view-in-github",
        "colab_type": "text"
      },
      "source": [
        "<a href=\"https://colab.research.google.com/github/zbyerly/2d_hydro/blob/master/day3/intro_python_lecture_2021.ipynb\" target=\"_parent\"><img src=\"https://colab.research.google.com/assets/colab-badge.svg\" alt=\"Open In Colab\"/></a>"
      ]
    },
    {
      "cell_type": "markdown",
      "metadata": {
        "id": "u1YDPNtbdHDj"
      },
      "source": [
        "\n",
        " # Introduction to Python\n",
        "## May 31st, 2021 \n",
        "## 4th LBRN-LONI Scientific Computing Bootcamp\n",
        "\n",
        "### Zach Byerly - HPC User Services Specialist\n",
        "### zbyerl1@lsu.edu\n"
      ]
    },
    {
      "cell_type": "markdown",
      "metadata": {
        "id": "VB--CYOSdHDm"
      },
      "source": [
        "Outline\n",
        " * Introduction\n",
        "    - About Python\n",
        "    - Advantages and Disadvantages\n",
        "    - Interactive Python Environments\n",
        "    - Important Differences Between 2.x and 3.x\n",
        " * Python Programming Basics\n",
        "    - Variables\n",
        "    - Built-in Data Types\n",
        "    - Operators\n",
        "    - Strings\n",
        " * Control structures\n",
        "    - If Else Statement\n",
        "    - For Loop\n",
        "    - While Loop\n",
        " * Lists, Tuples, Sets, and Dictionaries\n",
        " * Functions\n",
        " * Python Modules\n",
        " * Exercises\n"
      ]
    },
    {
      "cell_type": "markdown",
      "metadata": {
        "id": "NHPSUkOif0f2"
      },
      "source": [
        "#Introduction"
      ]
    },
    {
      "cell_type": "markdown",
      "metadata": {
        "id": "ipgvJSsRdHDn"
      },
      "source": [
        "## About Python\n",
        " * A general-purpose programming language\n",
        " * Intuitive\n",
        " * Interpreted not compiled (which has advantages and disadvantages)\n",
        " * Can be used interactively\n",
        " * Relies on indentation and whitespace to define scope, such as control structures and functions\n",
        " * Relatively portable\n",
        "  <br>"
      ]
    },
    {
      "cell_type": "markdown",
      "metadata": {
        "id": "H-fKj1GCvJQW"
      },
      "source": [
        "## Advantages & Disadvantages\n",
        "\n",
        "### Advantages\n",
        " * Ease of programming\n",
        " * Minimal time to develop and maintain codes\n",
        " * Large standard and user-contributed libraries\n",
        " * Large user community (very easy to find help!)\n",
        " \n",
        "### Disadvantages\n",
        " * Interpreted and therefore slower than compiled languages\n",
        " * Dynamically-typed can mean more run-time errors and hard to find bugs in code\n",
        " * Two versions are commonly used, and there are a couple of important differences"
      ]
    },
    {
      "cell_type": "markdown",
      "metadata": {
        "id": "Dm_ItPN0dHDo"
      },
      "source": [
        "##Interactive Python Environments\n",
        "\n",
        "**IPython**\n",
        "\n",
        "* Interactive command shell for Python (2001) by Fernando Perez\n",
        "* Enhanced Read-Eval-Print Loop (REPL) environment\n",
        "* Command tab-completion, color-highlighted error messages..\n",
        "* Basic Linux shell integration (cp, ls, rm…)\n",
        "\n",
        "**Jupyter Notebook**\n",
        "\n",
        "* Web interface to Python\n",
        "* Rich text, improved graphical capabilities\n",
        "* Integrate many existing web libraries for data visualization\n",
        "* Allow to create and share documents that contain live code, equations, visualizations and explanatory text. \n",
        "* Interface with over 40 languages, including R\n",
        "* This colab.research.google.com notebook is a Jupyter notebook\n",
        "* Jupyter Notebook is also available on LSU's Open OnDemand gateway, so you can run on SuperMike-II (ask me later if you are interested)\n",
        "\n"
      ]
    },
    {
      "cell_type": "markdown",
      "metadata": {
        "id": "iA5z2LUsQVG6"
      },
      "source": [
        "## Important Differences Between Python 2.x and 3.x\n",
        "\n",
        "We will be working with Python 3, but there are several important differences between Python 2.x and 3.x that can cause confusion. Here are two of the most likely to cause problems:\n",
        "\n",
        "###Behavior of the Division Operator\n",
        "\n",
        "This difference is the most dangerous, because it doesn't throw any errors. In Python 2.x, dividing two integers produces an integer.  In Python 3.x, the same operation produces a floating point number.\n",
        "\n",
        "For example:\n",
        "\n",
        "**In Python 2.x:**\n",
        "```\n",
        "print 7 / 5\n",
        "print -7 / 5\n",
        "```\n",
        "Output:\n",
        "```\n",
        "1\n",
        "-2\n",
        "```\n",
        "**In Python 3.x:**\n",
        "```\n",
        "print(7/5)\n",
        "print(-7/5)\n",
        "```\n",
        "Output:\n",
        "```\n",
        "1.4\n",
        "-1.4\n",
        "```\n",
        "\n",
        "The best way to deal with this problem is to specifically express at least one of the two integers as floating point numbers before dividing them, that way Python will know that you're expecting a floating point number as the result. \n",
        "\n",
        "**In Python 2.x:**\n",
        "```\n",
        "print 7.0 / 5\n",
        "print -7.0 / 5\n",
        "```\n",
        "Output:\n",
        "```\n",
        "1.4\n",
        "-1.4\n",
        "```\n",
        "\n",
        "###Print Function vs. Keyword\n",
        "\n",
        "Python 2.x uses the print keyword (rather than function) and looks like this:\n",
        "\n",
        "```\n",
        "print 'Hello world!'\n",
        "```\n",
        "\n",
        "\n",
        "This will produce an error in Python 3.x\n",
        "\n",
        "\n",
        "As we will see later on, Python 3.x uses a print function, which looks like this:\n",
        "\n",
        "```\n",
        "print('Hello world!')\n",
        "```\n",
        "\n",
        "Writing a print statement like this will work in **both** Python 2.x and 3.x\n",
        "\n"
      ]
    },
    {
      "cell_type": "markdown",
      "metadata": {
        "id": "fuhbhCWxV6qy"
      },
      "source": [
        "**Questions?**"
      ]
    },
    {
      "cell_type": "markdown",
      "metadata": {
        "id": "NeceJtozkw16"
      },
      "source": [
        "# Python Programming Basics"
      ]
    },
    {
      "cell_type": "markdown",
      "metadata": {
        "id": "UL3MjN4dlYiw"
      },
      "source": [
        "## Comments"
      ]
    },
    {
      "cell_type": "code",
      "metadata": {
        "id": "j-rKgYQSlcH5"
      },
      "source": [
        "# This is a comment"
      ],
      "execution_count": null,
      "outputs": []
    },
    {
      "cell_type": "markdown",
      "metadata": {
        "id": "krWd44XodHDp"
      },
      "source": [
        "## Variables \n",
        "\n",
        "In Python, the variable type is dynamically determined from the value it is assigned, no data type is declared"
      ]
    },
    {
      "cell_type": "code",
      "metadata": {
        "id": "uxWqCglglyVK",
        "outputId": "7b1d0f86-58e4-4451-fb87-0664e8118f87",
        "colab": {
          "base_uri": "https://localhost:8080/"
        }
      },
      "source": [
        "# Assign the value 37 to the variable age\n",
        "age = 37\n",
        "# Assign the string \"Zach\" to the variable name\n",
        "name = \"Zach\"\n",
        "\n",
        "# use the print command to see what values those variables hold\n",
        "print(age)\n",
        "print(name)\n",
        "\n",
        "# put those variables inside of a sentence\n",
        "print(\"Hi, my name is\", name, \"and I am\", age, \"years old!\")"
      ],
      "execution_count": 65,
      "outputs": [
        {
          "output_type": "stream",
          "text": [
            "37\n",
            "Zach\n",
            "Hi, my name is Zach and I am 37 years old!\n"
          ],
          "name": "stdout"
        }
      ]
    },
    {
      "cell_type": "markdown",
      "metadata": {
        "id": "DqzfTKX_dHDq"
      },
      "source": [
        "## Built-in Data Types\n",
        "\n",
        "* Number\n",
        "  - int\n",
        "  - float\n",
        "  - complex\n",
        "* String (str)\n",
        "* Sequence\n",
        "  - list\n",
        "  - tuple\n",
        "  - sets\n",
        "  - dictionary\n",
        "* Boolean (bool)\n",
        "\n",
        "And more!"
      ]
    },
    {
      "cell_type": "markdown",
      "metadata": {
        "id": "KWM_ojx6dHDq"
      },
      "source": [
        "## Numerical data types and operations"
      ]
    },
    {
      "cell_type": "markdown",
      "metadata": {
        "id": "RNwc41KhoyV5"
      },
      "source": [
        "**Determining the Type of a Variable**\n"
      ]
    },
    {
      "cell_type": "code",
      "metadata": {
        "id": "_yOMyLthdHDr",
        "outputId": "3efe77c0-3a61-42e6-d741-8f80cf6126e1",
        "colab": {
          "base_uri": "https://localhost:8080/"
        }
      },
      "source": [
        "x = 3\n",
        "type(x)"
      ],
      "execution_count": 4,
      "outputs": [
        {
          "output_type": "execute_result",
          "data": {
            "text/plain": [
              "int"
            ]
          },
          "metadata": {
            "tags": []
          },
          "execution_count": 4
        }
      ]
    },
    {
      "cell_type": "code",
      "metadata": {
        "id": "R_hrkRhMdHDv",
        "outputId": "3262602a-d66d-4b77-d683-f7768de7619c",
        "colab": {
          "base_uri": "https://localhost:8080/"
        }
      },
      "source": [
        "y = 3.0\n",
        "type(y)"
      ],
      "execution_count": 5,
      "outputs": [
        {
          "output_type": "execute_result",
          "data": {
            "text/plain": [
              "float"
            ]
          },
          "metadata": {
            "tags": []
          },
          "execution_count": 5
        }
      ]
    },
    {
      "cell_type": "code",
      "metadata": {
        "id": "gbdT2LuGdHDx",
        "outputId": "90822832-f027-459e-e89f-40ed555561bf",
        "colab": {
          "base_uri": "https://localhost:8080/"
        }
      },
      "source": [
        "z='hello'\n",
        "type(z)"
      ],
      "execution_count": 6,
      "outputs": [
        {
          "output_type": "execute_result",
          "data": {
            "text/plain": [
              "str"
            ]
          },
          "metadata": {
            "tags": []
          },
          "execution_count": 6
        }
      ]
    },
    {
      "cell_type": "markdown",
      "metadata": {
        "id": "BKjlONTeopKY"
      },
      "source": [
        "**Casting**\n",
        "\n",
        "When we want to assign a variable and specify the variable type"
      ]
    },
    {
      "cell_type": "code",
      "metadata": {
        "id": "EnO7Vu1QdHD0",
        "outputId": "8572f121-e364-483a-87bf-cb32aa739cfd",
        "colab": {
          "base_uri": "https://localhost:8080/"
        }
      },
      "source": [
        "# This is called \"casting\"\n",
        "x = int(3.3)\n",
        "\n",
        "type(x)"
      ],
      "execution_count": 17,
      "outputs": [
        {
          "output_type": "execute_result",
          "data": {
            "text/plain": [
              "int"
            ]
          },
          "metadata": {
            "tags": []
          },
          "execution_count": 17
        }
      ]
    },
    {
      "cell_type": "code",
      "metadata": {
        "id": "xhTkM2TFnvdO",
        "outputId": "da055555-9410-4c34-db9a-e887aec93c04",
        "colab": {
          "base_uri": "https://localhost:8080/"
        }
      },
      "source": [
        "print(x)"
      ],
      "execution_count": 18,
      "outputs": [
        {
          "output_type": "stream",
          "text": [
            "3\n"
          ],
          "name": "stdout"
        }
      ]
    },
    {
      "cell_type": "markdown",
      "metadata": {
        "id": "R7DyZUcJdHDp"
      },
      "source": [
        "### Arithmetic Operators \n",
        "* Addition +\n",
        "* Subtraction -\n",
        "* Multiplication *\n",
        "* Division /\n",
        "* Modulus %\n",
        "* Exponentiation **\n",
        "\n",
        "\n"
      ]
    },
    {
      "cell_type": "code",
      "metadata": {
        "id": "IQbBzpSQm3ol",
        "outputId": "ec65abe7-30b2-4bfc-e53c-a97146e0d079",
        "colab": {
          "base_uri": "https://localhost:8080/"
        }
      },
      "source": [
        "# Adding and subtracting numbers\n",
        "a = 11\n",
        "b = 5\n",
        "c = a + b\n",
        "\n",
        "print(c)\n",
        "\n",
        "d = a - b\n",
        "\n",
        "print(d)"
      ],
      "execution_count": 19,
      "outputs": [
        {
          "output_type": "stream",
          "text": [
            "16\n",
            "6\n"
          ],
          "name": "stdout"
        }
      ]
    },
    {
      "cell_type": "code",
      "metadata": {
        "id": "MFLyZd6mnAqV",
        "outputId": "10b10cfc-4dc2-493c-8b9d-625d0855ff16",
        "colab": {
          "base_uri": "https://localhost:8080/"
        }
      },
      "source": [
        "# Multiplying and dividing numbers\n",
        "e = a*b\n",
        "print(e)\n",
        "\n",
        "f = float(a)/b\n",
        "print(f)\n",
        "\n",
        "# In Python 2.x: \n",
        "g = float(a)/b\n",
        "print(g)"
      ],
      "execution_count": 21,
      "outputs": [
        {
          "output_type": "stream",
          "text": [
            "55\n",
            "2.2\n",
            "2.2\n"
          ],
          "name": "stdout"
        }
      ]
    },
    {
      "cell_type": "code",
      "metadata": {
        "id": "7u3zBZa8UjwH",
        "outputId": "3d5b1981-36c3-4327-c223-97ae0d612e18",
        "colab": {
          "base_uri": "https://localhost:8080/"
        }
      },
      "source": [
        "a = 11\n",
        "b = 5\n",
        "g = a%b\n",
        "print(g)"
      ],
      "execution_count": 28,
      "outputs": [
        {
          "output_type": "stream",
          "text": [
            "1\n"
          ],
          "name": "stdout"
        }
      ]
    },
    {
      "cell_type": "code",
      "metadata": {
        "id": "cMD5xV0eUu_v",
        "outputId": "83576b11-dc4b-4447-f7bc-0220a29119e7",
        "colab": {
          "base_uri": "https://localhost:8080/"
        }
      },
      "source": [
        "a = 2\n",
        "b = 8\n",
        "h = a**b\n",
        "print(h)"
      ],
      "execution_count": 27,
      "outputs": [
        {
          "output_type": "stream",
          "text": [
            "256\n"
          ],
          "name": "stdout"
        }
      ]
    },
    {
      "cell_type": "markdown",
      "metadata": {
        "id": "3K83v67zuGHE"
      },
      "source": [
        "### Assignment Operators\n"
      ]
    },
    {
      "cell_type": "code",
      "metadata": {
        "id": "myEKndfXuUOb",
        "outputId": "9a72ccf4-5002-4292-fb8d-63feae23214c",
        "colab": {
          "base_uri": "https://localhost:8080/"
        }
      },
      "source": [
        "x = 10\n",
        "x += 3\n",
        "print(x)\n",
        "\n",
        "y = 10\n",
        "y = y + 3\n",
        "print(y)"
      ],
      "execution_count": 30,
      "outputs": [
        {
          "output_type": "stream",
          "text": [
            "13\n",
            "13\n"
          ],
          "name": "stdout"
        }
      ]
    },
    {
      "cell_type": "code",
      "metadata": {
        "id": "3yL3gJ-uutLQ",
        "outputId": "0d537fe7-f23d-4af7-c5f6-96ae4a49b216",
        "colab": {
          "base_uri": "https://localhost:8080/"
        }
      },
      "source": [
        "x = 10\n",
        "x -= 3\n",
        "print(x)\n",
        "\n",
        "y = 10\n",
        "y = y - 3\n",
        "print(y)"
      ],
      "execution_count": 31,
      "outputs": [
        {
          "output_type": "stream",
          "text": [
            "7\n",
            "7\n"
          ],
          "name": "stdout"
        }
      ]
    },
    {
      "cell_type": "code",
      "metadata": {
        "id": "ycjoIGJXuv0u",
        "outputId": "fc2513f8-3d23-44e9-907b-c71ba7025d16",
        "colab": {
          "base_uri": "https://localhost:8080/"
        }
      },
      "source": [
        "x = 10\n",
        "x *= 3\n",
        "print(x)\n",
        "\n",
        "y = 10\n",
        "y = y * 3\n",
        "print(y)"
      ],
      "execution_count": 32,
      "outputs": [
        {
          "output_type": "stream",
          "text": [
            "30\n",
            "30\n"
          ],
          "name": "stdout"
        }
      ]
    },
    {
      "cell_type": "code",
      "metadata": {
        "id": "CUDWehm2u1YC",
        "outputId": "2b016334-b7a3-4a21-b35b-db805bec7f79",
        "colab": {
          "base_uri": "https://localhost:8080/"
        }
      },
      "source": [
        "x = 10\n",
        "x /= 5\n",
        "print(x)\n",
        "\n",
        "y = 10\n",
        "y = y / 5\n",
        "print(y)"
      ],
      "execution_count": 33,
      "outputs": [
        {
          "output_type": "stream",
          "text": [
            "2.0\n",
            "2.0\n"
          ],
          "name": "stdout"
        }
      ]
    },
    {
      "cell_type": "markdown",
      "metadata": {
        "id": "N8J4uCS4vAxn"
      },
      "source": [
        "### Comparison Operators"
      ]
    },
    {
      "cell_type": "code",
      "metadata": {
        "id": "h3qlEU4SvGGx",
        "outputId": "748a1125-3c76-41c0-cb5d-a6ea88cf3887",
        "colab": {
          "base_uri": "https://localhost:8080/"
        }
      },
      "source": [
        "x = 5\n",
        "y = 5\n",
        "\n",
        "print(x, \"==\", y, x==y)\n",
        "print(x, \"!=\", y, x!=y)\n",
        "print(x, \">\", y, x>y)\n",
        "print(x, \"<\", y, x<y)\n",
        "print(x, \">=\", y, x>=y)\n",
        "print(x, \"<=\", y, x<=y)"
      ],
      "execution_count": 35,
      "outputs": [
        {
          "output_type": "stream",
          "text": [
            "5 == 5 True\n",
            "5 != 5 False\n",
            "5 > 5 False\n",
            "5 < 5 False\n",
            "5 >= 5 True\n",
            "5 <= 5 True\n"
          ],
          "name": "stdout"
        }
      ]
    },
    {
      "cell_type": "markdown",
      "metadata": {
        "id": "8T4SBOaNv7fv"
      },
      "source": [
        "### Logical Operators"
      ]
    },
    {
      "cell_type": "code",
      "metadata": {
        "id": "8ZOsGfbQv-P9",
        "outputId": "4255fcb7-4fdb-43fb-9a3d-c9247a5e5409",
        "colab": {
          "base_uri": "https://localhost:8080/"
        }
      },
      "source": [
        "a = 3\n",
        "b = 4\n",
        "x = 10\n",
        "y = 20\n",
        "print(a < b and x < y)"
      ],
      "execution_count": 38,
      "outputs": [
        {
          "output_type": "stream",
          "text": [
            "True\n"
          ],
          "name": "stdout"
        }
      ]
    },
    {
      "cell_type": "code",
      "metadata": {
        "id": "J9zl_SfTwfht",
        "outputId": "7bd16a35-5823-4787-a6d9-90ecd84305d5",
        "colab": {
          "base_uri": "https://localhost:8080/"
        }
      },
      "source": [
        "a = 3\n",
        "b = 2\n",
        "x = 10\n",
        "y = 20\n",
        "print(a < b or x < y)"
      ],
      "execution_count": 39,
      "outputs": [
        {
          "output_type": "stream",
          "text": [
            "True\n"
          ],
          "name": "stdout"
        }
      ]
    },
    {
      "cell_type": "code",
      "metadata": {
        "id": "oe1dFioBwgSU",
        "outputId": "57a53624-bcd4-4b0c-e24f-af050b08e0e7",
        "colab": {
          "base_uri": "https://localhost:8080/"
        }
      },
      "source": [
        "a = 3\n",
        "b = 4\n",
        "print(a < b)\n",
        "print(not(a < b))"
      ],
      "execution_count": 42,
      "outputs": [
        {
          "output_type": "stream",
          "text": [
            "True\n",
            "False\n"
          ],
          "name": "stdout"
        }
      ]
    },
    {
      "cell_type": "markdown",
      "metadata": {
        "id": "4JnOxkiLqQol"
      },
      "source": [
        "**Questions?**"
      ]
    },
    {
      "cell_type": "markdown",
      "metadata": {
        "id": "_XDWU4R-dHED"
      },
      "source": [
        "<a id='string'></a>\n",
        "## Strings and string operations"
      ]
    },
    {
      "cell_type": "code",
      "metadata": {
        "id": "lRqQ2KwHdHEE"
      },
      "source": [
        "my_str = 'Hello World'"
      ],
      "execution_count": 53,
      "outputs": []
    },
    {
      "cell_type": "code",
      "metadata": {
        "id": "4R7QI39sdHEG",
        "outputId": "649140e4-0874-427a-d716-60d6da46f3d1",
        "colab": {
          "base_uri": "https://localhost:8080/"
        }
      },
      "source": [
        "print(my_str); len(my_str)"
      ],
      "execution_count": 49,
      "outputs": [
        {
          "output_type": "stream",
          "text": [
            "Hello World!\n"
          ],
          "name": "stdout"
        },
        {
          "output_type": "execute_result",
          "data": {
            "text/plain": [
              "12"
            ]
          },
          "metadata": {
            "tags": []
          },
          "execution_count": 49
        }
      ]
    },
    {
      "cell_type": "code",
      "metadata": {
        "id": "4zQd6w2odHEN",
        "outputId": "ae6b10f5-1784-4c50-fd2d-4c96ef8edec4",
        "colab": {
          "base_uri": "https://localhost:8080/"
        }
      },
      "source": [
        "#indexing starting at 0\n",
        "print(my_str[0]); print(my_str[1]); print(my_str[len(my_str)-1])"
      ],
      "execution_count": 50,
      "outputs": [
        {
          "output_type": "stream",
          "text": [
            "H\n",
            "e\n",
            "!\n"
          ],
          "name": "stdout"
        }
      ]
    },
    {
      "cell_type": "code",
      "metadata": {
        "id": "sM7y1xrzdHEQ",
        "outputId": "935cecfa-7302-4ee6-bf10-24b86f887bff",
        "colab": {
          "base_uri": "https://localhost:8080/"
        }
      },
      "source": [
        "#string slicing\n",
        "print(my_str[6:11]); print(my_str[6:]); print(my_str[:5])"
      ],
      "execution_count": 54,
      "outputs": [
        {
          "output_type": "stream",
          "text": [
            "World\n",
            "World\n",
            "Hello\n"
          ],
          "name": "stdout"
        }
      ]
    },
    {
      "cell_type": "code",
      "metadata": {
        "id": "jZ3WiHyQdHET",
        "outputId": "e8c664f5-1442-4942-eda4-7da1ba006315",
        "colab": {
          "base_uri": "https://localhost:8080/"
        }
      },
      "source": [
        "#string split\n",
        "my_str = 'Hello World'\n",
        "s1, s2= my_str.split()\n",
        "print(s1)\n",
        "print(s2)\n"
      ],
      "execution_count": 58,
      "outputs": [
        {
          "output_type": "stream",
          "text": [
            "Hello\n",
            "World\n"
          ],
          "name": "stdout"
        }
      ]
    },
    {
      "cell_type": "code",
      "metadata": {
        "id": "TW0WIQredHEX",
        "outputId": "c9df7623-4783-4705-9dcd-8f54d6bf14f7",
        "colab": {
          "base_uri": "https://localhost:8080/"
        }
      },
      "source": [
        "#multiple line spanning\n",
        "multilines= \"\"\"This is a multi-line\n",
        "block of sample\n",
        " text\"\"\"\n",
        "print(multilines)\n"
      ],
      "execution_count": 59,
      "outputs": [
        {
          "output_type": "stream",
          "text": [
            "This is a multi-line\n",
            "block of sample\n",
            " text\n"
          ],
          "name": "stdout"
        }
      ]
    },
    {
      "cell_type": "code",
      "metadata": {
        "id": "-ys2Eo35dHEf",
        "outputId": "dd5b897f-1b15-48e7-ec5b-bb944debfd8f",
        "colab": {
          "base_uri": "https://localhost:8080/"
        }
      },
      "source": [
        "#more string ops\n",
        "my_str=\"Hello World\"\n",
        "print(my_str.upper())\n",
        "print(my_str.isalpha())\n",
        "print(my_str[0].isalpha())\n",
        "a='12'\n",
        "print(a.isdigit())"
      ],
      "execution_count": 64,
      "outputs": [
        {
          "output_type": "stream",
          "text": [
            "HELLO WORLD\n",
            "False\n",
            "True\n",
            "True\n"
          ],
          "name": "stdout"
        }
      ]
    },
    {
      "cell_type": "markdown",
      "metadata": {
        "id": "sYQs3O-6dHFb"
      },
      "source": [
        "# Control Structures \n"
      ]
    },
    {
      "cell_type": "code",
      "metadata": {
        "id": "827UT2CkdHFb"
      },
      "source": [
        "# if else statement:\n",
        "\n",
        "x = 10\n",
        "if ( x > 5 ):\n",
        "  print(x,\"> 5\")\n",
        "  print(\"Hi, greater than 5\")\n",
        "elif( x == 5 ):\n",
        "  print(\"Hi, equals 5\")\n",
        "elif( x == 3 ):\n",
        "  print(\"Hi, equals 3!\")\n",
        "else:\n",
        "  print(x, \"< 5\")\n",
        "  print(\"Hi, less than 5\")\n",
        "    "
      ],
      "execution_count": null,
      "outputs": []
    },
    {
      "cell_type": "code",
      "metadata": {
        "id": "abujcdodh_uP"
      },
      "source": [
        "# for loop\n",
        "\n",
        "for num in range(10):\n",
        "    print(num)"
      ],
      "execution_count": null,
      "outputs": []
    },
    {
      "cell_type": "code",
      "metadata": {
        "id": "Lwml52WJiElb"
      },
      "source": [
        "# while loop\n",
        "\n",
        "index=1\n",
        "while (index <= 10):\n",
        "    print(index)\n",
        "    index += 3"
      ],
      "execution_count": null,
      "outputs": []
    },
    {
      "cell_type": "code",
      "metadata": {
        "id": "d_vg_-B_bkoP"
      },
      "source": [
        "#Looping through a string:\n",
        "for x in \"banana\":\n",
        "  print(x)"
      ],
      "execution_count": null,
      "outputs": []
    },
    {
      "cell_type": "code",
      "metadata": {
        "id": "MTMkGQhRcRl9"
      },
      "source": [
        "for x in range(6):\n",
        "  print(x)"
      ],
      "execution_count": null,
      "outputs": []
    },
    {
      "cell_type": "code",
      "metadata": {
        "id": "kYozUKhZchnq"
      },
      "source": [
        "#range and increment by 3\n",
        "\n",
        "for x in range(3, 30, 3):\n",
        "  print(x) "
      ],
      "execution_count": null,
      "outputs": []
    },
    {
      "cell_type": "markdown",
      "metadata": {
        "id": "PBSOuzeKVtUJ"
      },
      "source": [
        "**Nesting Control Structures**"
      ]
    },
    {
      "cell_type": "code",
      "metadata": {
        "id": "RdEFIcNviMd2"
      },
      "source": [
        "# prime numbers\n",
        "# We will use this in the exercises  -  don't ask why it is this way!\n",
        "# break: stops the for loop or while loop even when it would usually keep going\n",
        "# pass: placeholder for empty code, does nothing\n",
        "# continue: ends current iteration of the loop\n",
        "n = 2\n",
        "while n < 10:\n",
        "    prime = True\n",
        "    for x in range(2,n):\n",
        "        if n % x == 0:\n",
        "            prime = False\n",
        "            break\n",
        "        if prime:\n",
        "            print(n, 'is a prime #  ')\n",
        "            pass\n",
        "        else:\n",
        "            n = n + 1\n",
        "            continue\n",
        "    n = n + 1"
      ],
      "execution_count": null,
      "outputs": []
    },
    {
      "cell_type": "markdown",
      "metadata": {
        "id": "53Zh87HJV0dL"
      },
      "source": [
        "**Questions?**"
      ]
    },
    {
      "cell_type": "markdown",
      "metadata": {
        "id": "_GSJRSDDdHEj"
      },
      "source": [
        "# Lists, Tuples, and Dictionaries\n",
        "There are 4 built-in data types used to store collections of data (sets we won't discuss). Each have different qualities and uses.\n",
        "\n",
        "* (Un)Ordered: has (no) defined order\n",
        "* (Un)Changeable: we can (not) change, add, and remove items\n",
        "* (Doesn't) Allows Duplicates: can (not) have multiple items with the same value\n",
        "\n",
        "* Lists:\n",
        "  - Ordered\n",
        "  - Changeable\n",
        "  - Allows Duplicates\n",
        "\n",
        "* Tuples:\n",
        "  - Ordered\n",
        "  - Unchangeable\n",
        "  - Allows Duplicates\n",
        "\n",
        "* Sets\n",
        "  - Unordered\n",
        "  - Unchangeable\n",
        "  - Doesn't Allow Duplicates\n",
        "\n",
        "* Dictionary (stores key:value pairs)\n",
        "  - Ordered (as of Python 3.7, unordered before then)\n",
        "  - Changeable\n",
        "  - Doesn't allow Duplicates\n",
        "\n"
      ]
    },
    {
      "cell_type": "markdown",
      "metadata": {
        "id": "yHKYdkH21g9S"
      },
      "source": [
        "## Lists"
      ]
    },
    {
      "cell_type": "code",
      "metadata": {
        "id": "kjuBDd2CdHEj"
      },
      "source": [
        "my_list = [1,2,9,4]\n",
        "print(my_list)\n",
        "#how to find out the data type?\n",
        "type(my_list)"
      ],
      "execution_count": null,
      "outputs": []
    },
    {
      "cell_type": "code",
      "metadata": {
        "id": "5RGeAbwqdHEm"
      },
      "source": [
        "my_list2 = list(range(2,21,2))\n",
        "print(my_list2)"
      ],
      "execution_count": null,
      "outputs": []
    },
    {
      "cell_type": "code",
      "metadata": {
        "id": "o_Kpc9EjdHEp"
      },
      "source": [
        "# access list members by index \n",
        "# start at 0, end at n-1\n",
        "print(\"1st element =\", my_list[0])\n",
        "print(\"last element =\", my_list[3])"
      ],
      "execution_count": null,
      "outputs": []
    },
    {
      "cell_type": "code",
      "metadata": {
        "id": "iEmUEwyYdHEr"
      },
      "source": [
        "#Concatenate lists\n",
        "print(my_list + my_list)\n",
        "print(my_list *2)\n",
        "print(my_list *3)"
      ],
      "execution_count": null,
      "outputs": []
    },
    {
      "cell_type": "code",
      "metadata": {
        "id": "on_o62WTdHEt"
      },
      "source": [
        "# iterate list elements\n",
        "animals = ['dog','cat','horse','mouse']\n",
        "for name in animals:\n",
        "    print(name)"
      ],
      "execution_count": null,
      "outputs": []
    },
    {
      "cell_type": "code",
      "metadata": {
        "id": "oVQvQrY8eUUp"
      },
      "source": [
        "# enumerate\n",
        "cars = ['Ford','Chevy','Toyota']\n",
        "print(cars)\n",
        "cars2 = enumerate(cars)\n",
        "print(list(cars2))"
      ],
      "execution_count": null,
      "outputs": []
    },
    {
      "cell_type": "code",
      "metadata": {
        "id": "iCKHMWDNdHEv"
      },
      "source": [
        "\n",
        "for index, name in enumerate(cars):\n",
        "    print(index+1, name)"
      ],
      "execution_count": null,
      "outputs": []
    },
    {
      "cell_type": "code",
      "metadata": {
        "id": "FJIrrjo4dHEx"
      },
      "source": [
        "my_list = [1,2,9,4]\n",
        "\n",
        "# modify list\n",
        "del my_list[0]; print(my_list)\n",
        "my_list.append(7); print(my_list)\n",
        "my_list.insert(0, 42); print(my_list)"
      ],
      "execution_count": null,
      "outputs": []
    },
    {
      "cell_type": "code",
      "metadata": {
        "id": "Sbs8IVSfdHEy"
      },
      "source": [
        "#some list fun\n",
        "\n",
        "my_list.sort(); print(my_list)\n",
        "my_list.reverse(); print(my_list)"
      ],
      "execution_count": null,
      "outputs": []
    },
    {
      "cell_type": "code",
      "metadata": {
        "id": "NQUYj0__dHE1"
      },
      "source": [
        "#more sorting\n",
        "my_list = ['cats', 'SHEEP','DOGS','horses']\n",
        "print(sorted(my_list, key=len))\n",
        "print(sorted(my_list))\n",
        "print(sorted(my_list, reverse=True))"
      ],
      "execution_count": null,
      "outputs": []
    },
    {
      "cell_type": "code",
      "metadata": {
        "id": "U8d5KvgTdHE5"
      },
      "source": [
        "sorted(my_list, key=len)"
      ],
      "execution_count": null,
      "outputs": []
    },
    {
      "cell_type": "code",
      "metadata": {
        "id": "RzRA23WMdHE7"
      },
      "source": [
        "# sort by lowercase\n",
        "sorted(my_list, key=str.lower)"
      ],
      "execution_count": null,
      "outputs": []
    },
    {
      "cell_type": "code",
      "metadata": {
        "id": "300FFfyxdHE9"
      },
      "source": [
        "#list comprehension [expr for var in list]\n",
        "my_list=[2,5,9,1]\n",
        "square = [x**2 for x in my_list]; print(\"square =\", square)\n",
        "large = [n for n in my_list if n >= 5]; print('large =',large)\n",
        "\n",
        "my_list = [2,5,9,1]\n",
        "times_two = [x*2 for x in my_list if x%2 == 1]\n",
        "print(times_two)"
      ],
      "execution_count": null,
      "outputs": []
    },
    {
      "cell_type": "markdown",
      "metadata": {
        "id": "SHQYeFQadHE_"
      },
      "source": [
        "## Tuples\n",
        "\n",
        "  * Why Tuple? \n",
        "  * Processed faster than lists\n",
        "  * Sequence of a Tuple is protected\n",
        "  * Most people say \"TOO-pul\", I say \"TUH-pul\".  Both are correct!\n"
      ]
    },
    {
      "cell_type": "code",
      "metadata": {
        "id": "331x350XgbOG"
      },
      "source": [
        "#empty tuples\n",
        "my_tup = ()\n",
        "print(my_tup)"
      ],
      "execution_count": null,
      "outputs": []
    },
    {
      "cell_type": "code",
      "metadata": {
        "id": "PWELXBmJg0LR"
      },
      "source": [
        "# you have to include a comma, even though there is only one value you have to include a comma, even though there is only one value\n",
        "tup1 = (50,);\n",
        "print(tup1)"
      ],
      "execution_count": null,
      "outputs": []
    },
    {
      "cell_type": "code",
      "metadata": {
        "id": "nlgKsOibdHE_"
      },
      "source": [
        "my_tup = (2, 8, 3, 1)\n",
        "print(my_tup)\n",
        "a,b,c,d = my_tup\n",
        "print(a, b, c, d)\n"
      ],
      "execution_count": null,
      "outputs": []
    },
    {
      "cell_type": "code",
      "metadata": {
        "id": "d85nI5mKdHFD"
      },
      "source": [
        "print(my_tup[0])"
      ],
      "execution_count": null,
      "outputs": []
    },
    {
      "cell_type": "markdown",
      "metadata": {
        "id": "7NHEdgtwdHFG"
      },
      "source": [
        "## Dictionaries\n",
        "* List of key-value pairs { }\n",
        "* Unordered collections of objects, not indexed\n",
        "* Store objects in a random order to provide faster lookup\n",
        "* Data type are heterogeneous, unlike list\n",
        "* Element are accessed by a keyword, not index\n",
        "* Elements are changeable\n",
        "* dict = {\"key1”: value1,  “key2”: value2} "
      ]
    },
    {
      "cell_type": "code",
      "metadata": {
        "id": "9gcG6o9NdHFG"
      },
      "source": [
        "my_dict = {'cats': 4, 'dogs':2, 'sheep':3}\n",
        "print(my_dict)"
      ],
      "execution_count": null,
      "outputs": []
    },
    {
      "cell_type": "code",
      "metadata": {
        "id": "ObA5EWGWdHFL"
      },
      "source": [
        "print(my_dict[\"cats\"])"
      ],
      "execution_count": null,
      "outputs": []
    },
    {
      "cell_type": "code",
      "metadata": {
        "id": "VNSCBGHSdHFN"
      },
      "source": [
        "my_dict['horse'] = 3; print(sorted(my_dict))"
      ],
      "execution_count": null,
      "outputs": []
    },
    {
      "cell_type": "code",
      "metadata": {
        "id": "sIfUBr5DdHFR"
      },
      "source": [
        "print(my_dict.keys()); print(my_dict.values())\n",
        "print(sorted(my_dict.values()))\n"
      ],
      "execution_count": null,
      "outputs": []
    },
    {
      "cell_type": "code",
      "metadata": {
        "id": "zsD9iVhudHFT"
      },
      "source": [
        "for key, value in my_dict.items():\n",
        "    print(key, value)"
      ],
      "execution_count": null,
      "outputs": []
    },
    {
      "cell_type": "markdown",
      "metadata": {
        "id": "8sIJ4A57dHFk"
      },
      "source": [
        "# Functions\n",
        "How to define a function:\n",
        "\n",
        "```\n",
        "def func_name(arg1, arg2,...): \n",
        "  body of the function\n",
        "  \n",
        "  return return_value\n",
        "```    "
      ]
    },
    {
      "cell_type": "code",
      "metadata": {
        "id": "B5Hf5RZLdHFk"
      },
      "source": [
        "#addition\n",
        "def my_add(x, y):\n",
        "    return x+y\n",
        "\n",
        "sum=my_add(3, 8); print(sum)"
      ],
      "execution_count": null,
      "outputs": []
    },
    {
      "cell_type": "code",
      "metadata": {
        "id": "5lyjqDO4dHFm"
      },
      "source": [
        "#return multiple values\n",
        "def power(input):\n",
        "    return input**2, input**3\n",
        "\n",
        "square, cube = power(3)\n",
        "print(\"square =\",square, \"cube =\",cube)"
      ],
      "execution_count": null,
      "outputs": []
    },
    {
      "cell_type": "markdown",
      "metadata": {
        "id": "h9s2tfPcdHFo"
      },
      "source": [
        "\n",
        "# Python Modules\n",
        "* Import a module before having access to all the functions within\n",
        "* Most Python distributions come with plenty of build-in modules, for example: math, sys, os\n",
        "* Many other very useful python modules:\n",
        " -  NumPy, high performance in vector & matrix using vector computation \n",
        " -  SciPy: based on Numpy, including many scientific algorithms.\n",
        " -  pandas\n",
        " -  matplotlib, pyplot, **pylab**"
      ]
    },
    {
      "cell_type": "code",
      "metadata": {
        "id": "H9NB_NcNdHFo"
      },
      "source": [
        "#import a module\n",
        "import math\n",
        "math.sin(math.pi)"
      ],
      "execution_count": null,
      "outputs": []
    },
    {
      "cell_type": "code",
      "metadata": {
        "id": "LZkg2iD_dHFq"
      },
      "source": [
        "#get information of a module\n",
        "dir(math)"
      ],
      "execution_count": null,
      "outputs": []
    },
    {
      "cell_type": "code",
      "metadata": {
        "id": "m2CnZMlldHFs"
      },
      "source": [
        "#get information\n",
        "help(math)"
      ],
      "execution_count": null,
      "outputs": []
    },
    {
      "cell_type": "code",
      "metadata": {
        "raw_mimetype": "text/x-python",
        "id": "fL7e1I0IdHFt"
      },
      "source": [
        "# get information of a module function \n",
        "help(range)"
      ],
      "execution_count": null,
      "outputs": []
    },
    {
      "cell_type": "markdown",
      "metadata": {
        "id": "vrDWNnt-dHFv"
      },
      "source": [
        " * Examples using os, commands modules\n",
        " * os: includes many functions interacting with the file system \n"
      ]
    },
    {
      "cell_type": "code",
      "metadata": {
        "id": "Hn34Cqtu3Zku"
      },
      "source": [
        "import os\n",
        "!ls -a\n",
        "os.listdir()\n"
      ],
      "execution_count": null,
      "outputs": []
    },
    {
      "cell_type": "code",
      "metadata": {
        "id": "PVaDavH4dHFv"
      },
      "source": [
        "\n",
        "def display_dir(dir):\n",
        "      files = os.listdir()\n",
        "      for fname in files:\n",
        "        print(fname)\n",
        "        print(os.path.abspath(os.path.join(dir, fname))) \n",
        "\n",
        "display_dir('/tmp')"
      ],
      "execution_count": null,
      "outputs": []
    },
    {
      "cell_type": "markdown",
      "metadata": {
        "id": "zt4YHVYPdHGR"
      },
      "source": [
        "Plotting using matplotlib\n"
      ]
    },
    {
      "cell_type": "code",
      "metadata": {
        "id": "vkXjWnr_dHGZ"
      },
      "source": [
        "# Plot a bar chart\n",
        "import matplotlib.pyplot as plt\n",
        "\n",
        "\n",
        "xlabeles = ['January','February','March','April']\n",
        "xticks = [i for i in range(len(xlabeles))]\n",
        "y = [ 34, 17, 13, 69]\n",
        "e = [5.2, 10., 1.5, 12.]\n",
        "plt.errorbar(xlabeles, y, yerr=e, fmt='d', capsize=10)\n",
        "plt.bar(xlabeles, y, 0.5, color='red' )\n",
        "plt.title(\"Sale by Month\")\n",
        "plt.xlabel('Month')\n",
        "plt.ylabel('Sale')\n",
        "plt.xticks(xticks, xlabeles)\n",
        "\n",
        "plt.show()"
      ],
      "execution_count": null,
      "outputs": []
    },
    {
      "cell_type": "markdown",
      "metadata": {
        "id": "z-YuCy6W7r_f"
      },
      "source": [
        "# Exercises"
      ]
    },
    {
      "cell_type": "markdown",
      "metadata": {
        "id": "qjp7hzS47u0F"
      },
      "source": [
        "1) Write a line of code to print the sum of 999 and 1600"
      ]
    },
    {
      "cell_type": "code",
      "metadata": {
        "id": "4ULjgwxwdHGe"
      },
      "source": [
        ""
      ],
      "execution_count": null,
      "outputs": []
    },
    {
      "cell_type": "markdown",
      "metadata": {
        "id": "656RSHJU8A6u"
      },
      "source": [
        "2) Write a line of code to print out your \"Hello Name\" where Name is your name."
      ]
    },
    {
      "cell_type": "code",
      "metadata": {
        "id": "Jgz-6j7R8Lkl"
      },
      "source": [
        ""
      ],
      "execution_count": null,
      "outputs": []
    },
    {
      "cell_type": "markdown",
      "metadata": {
        "id": "yFuPURle7zqJ"
      },
      "source": [
        "3) Write a code snippet to calculate the total of a shopping trip. You bought:\n",
        "\n",
        "1 pair of shoes:  $2400\n",
        "\n",
        "1 pair of slacks: $1500\n",
        "\n",
        "1 ruby ring: $22000\n",
        "\n",
        "State and local tax is 22%.\n",
        "\n",
        "You want to print out the untaxed total, the amount of tax and the total of tax and goods."
      ]
    },
    {
      "cell_type": "code",
      "metadata": {
        "id": "pYMY_OUd73kz"
      },
      "source": [
        ""
      ],
      "execution_count": null,
      "outputs": []
    },
    {
      "cell_type": "markdown",
      "metadata": {
        "id": "m4IW9ndv74e4"
      },
      "source": [
        "4) Rewrite the code you wrote above make the tax calculation a function block and the shopping total a function block.   Write a complete program and run it."
      ]
    },
    {
      "cell_type": "code",
      "metadata": {
        "id": "N6o9yVbt778T"
      },
      "source": [
        ""
      ],
      "execution_count": null,
      "outputs": []
    },
    {
      "cell_type": "markdown",
      "metadata": {
        "id": "g-O1_Ffa78wV"
      },
      "source": [
        "5) Create a leap year finder based on the following algorithm:\n",
        "\n",
        "Leap years occur according to the following formula: a leap year is divisible by four, but not by one hundred, unless it is divisible by four hundred. For example, 1992, 1996, and 2000 are leap years, but 1993 and 1900 are not. The next leap year that falls on a century will be 2400.\n",
        "\n",
        "Use the following list to check and see if your code is correct.  The list of leap years from 1900 to 2400 inclusive is:\n",
        "\n",
        "1904, 1908, 1912, 1916, 1920, 1924, 1928, 1932, 1936, 1940, 1944, 1948, 1952, 1956, 1960, 1964, 1968, 1972, 1976, 1980, 1984, 1988, 1992, 1996, 2000, 2004, 2008, 2012, 2016, 2020"
      ]
    },
    {
      "cell_type": "code",
      "metadata": {
        "id": "h0JhVFbH8g6h"
      },
      "source": [
        "#Find leap years:\n",
        "#\n",
        "#Logic: leap year is exactly divisible by 4 except for century years (years ending with 00). The century year is a leap year only if it is perfectly divisible by 400. \n",
        "\n",
        "# To get year (integer input) from the user\n",
        "# year = int(input)\n",
        "#  Warn user:   print(\"{0} is not a leap year\".format(year))\n"
      ],
      "execution_count": null,
      "outputs": []
    }
  ]
}